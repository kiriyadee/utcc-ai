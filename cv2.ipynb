{
 "cells": [
  {
   "cell_type": "code",
   "execution_count": 2,
   "id": "82349246-a295-44d1-b155-00e20f0b8de3",
   "metadata": {},
   "outputs": [
    {
     "name": "stdout",
     "output_type": "stream",
     "text": [
      "Released Video Resource\n"
     ]
    },
    {
     "name": "stderr",
     "output_type": "stream",
     "text": [
      "OpenCV: Couldn't read video stream from file \"./car-detection.mp4\"\n"
     ]
    }
   ],
   "source": [
    "import cv2\n",
    "from IPython.display import clear_output, display\n",
    "import matplotlib.pyplot as plt\n",
    "\n",
    "# Load the video\n",
    "vid = cv2.VideoCapture(\"./car-detection.mp4\")\n",
    "\n",
    "try:\n",
    "    while True:\n",
    "        # Capture frame-by-frame\n",
    "        ret, frame = vid.read()\n",
    "        if not ret:\n",
    "            # Release the video resource if no frame is captured\n",
    "            vid.release()\n",
    "            print('Released Video Resource')\n",
    "            break\n",
    "        \n",
    "        # Convert the frame from BGR (OpenCV format) to RGB (Matplotlib format)\n",
    "        frame = cv2.cvtColor(frame, cv2.COLOR_BGR2RGB)\n",
    "        \n",
    "        # Clear previous frame\n",
    "        clear_output(wait=True)\n",
    "        \n",
    "        # Display the frame\n",
    "        plt.imshow(frame)\n",
    "        plt.axis('off')  # Turn off axes\n",
    "        plt.title(\"Input Stream\")\n",
    "        display(plt.gcf())\n",
    "        plt.close()\n",
    "\n",
    "except KeyboardInterrupt:\n",
    "    # Release the video resource\n",
    "    vid.release()\n",
    "    print('Released Video Resource')"
   ]
  }
 ],
 "metadata": {
  "kernelspec": {
   "display_name": "Python 3 (ipykernel)",
   "language": "python",
   "name": "python3"
  },
  "language_info": {
   "codemirror_mode": {
    "name": "ipython",
    "version": 3
   },
   "file_extension": ".py",
   "mimetype": "text/x-python",
   "name": "python",
   "nbconvert_exporter": "python",
   "pygments_lexer": "ipython3",
   "version": "3.12.7"
  }
 },
 "nbformat": 4,
 "nbformat_minor": 5
}
